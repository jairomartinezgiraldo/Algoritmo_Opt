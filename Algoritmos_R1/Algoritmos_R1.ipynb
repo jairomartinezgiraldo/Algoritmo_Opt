{
 "cells": [
  {
   "cell_type": "markdown",
   "metadata": {
    "id": "kQn6fbhgtH9I"
   },
   "source": [
    "# Algoritmos de optimización - Reto 1\n",
    "\n",
    "Nombre: Jairo Martinez Giraldo <br>\n",
    "Github: https://github.com/jairomartinezgiraldo/Algoritmo_Opt/Algoritmos_R1 <br>"
   ]
  },
  {
   "cell_type": "markdown",
   "metadata": {
    "id": "_t62Ge7ZuKnC"
   },
   "source": [
    "## Torres de Hanoi con Divide y vencerás\n",
    "\n",
    "Resuelve el problema de las [Torres de Hanoi](https://es.wikipedia.org/wiki/Torres_de_Han%C3%B3i) para un número arbitrario de fichas utilizando la técnica de divide y vencerás. "
   ]
  },
  {
   "cell_type": "code",
   "execution_count": 1,
   "metadata": {
    "colab": {
     "base_uri": "https://localhost:8080/"
    },
    "id": "i32G0CUQvauE",
    "outputId": "c3398cec-661d-46a5-b9db-0a0ad168f64a"
   },
   "outputs": [
    {
     "name": "stdout",
     "output_type": "stream",
     "text": [
      "Solucición para una cantidad de 3 discos\n",
      "Paso 1. Mueve el disco de la torre 1 a la torre 3\n",
      "Paso 2. Mueve el disco de la torre 1 a la torre 2\n",
      "Paso 3. Mueve el disco de la torre 3 a la torre 2\n",
      "Paso 4. Mueve el disco de la torre 1 a la torre 3\n",
      "Paso 5. Mueve el disco de la torre 2 a la torre 1\n",
      "Paso 6. Mueve el disco de la torre 2 a la torre 3\n",
      "Paso 7. Mueve el disco de la torre 1 a la torre 3\n",
      "Número total de movimientos: 7\n",
      "################################################################################################\n",
      "Según la función el óptimos para resolver este ejercicio es de f(n) = ((2^n) - 1) : 7\n",
      "################################################################################################\n",
      "Solucición para una cantidad de 5 discos se realiza los siguientes pasos\n",
      "Paso 1. Mueve el disco de la torre 1 a la torre 3\n",
      "Paso 2. Mueve el disco de la torre 1 a la torre 2\n",
      "Paso 3. Mueve el disco de la torre 3 a la torre 2\n",
      "Paso 4. Mueve el disco de la torre 1 a la torre 3\n",
      "Paso 5. Mueve el disco de la torre 2 a la torre 1\n",
      "Paso 6. Mueve el disco de la torre 2 a la torre 3\n",
      "Paso 7. Mueve el disco de la torre 1 a la torre 3\n",
      "Paso 8. Mueve el disco de la torre 1 a la torre 2\n",
      "Paso 9. Mueve el disco de la torre 3 a la torre 2\n",
      "Paso 10. Mueve el disco de la torre 3 a la torre 1\n",
      "Paso 11. Mueve el disco de la torre 2 a la torre 1\n",
      "Paso 12. Mueve el disco de la torre 3 a la torre 2\n",
      "Paso 13. Mueve el disco de la torre 1 a la torre 3\n",
      "Paso 14. Mueve el disco de la torre 1 a la torre 2\n",
      "Paso 15. Mueve el disco de la torre 3 a la torre 2\n",
      "Paso 16. Mueve el disco de la torre 1 a la torre 3\n",
      "Paso 17. Mueve el disco de la torre 2 a la torre 1\n",
      "Paso 18. Mueve el disco de la torre 2 a la torre 3\n",
      "Paso 19. Mueve el disco de la torre 1 a la torre 3\n",
      "Paso 20. Mueve el disco de la torre 2 a la torre 1\n",
      "Paso 21. Mueve el disco de la torre 3 a la torre 2\n",
      "Paso 22. Mueve el disco de la torre 3 a la torre 1\n",
      "Paso 23. Mueve el disco de la torre 2 a la torre 1\n",
      "Paso 24. Mueve el disco de la torre 2 a la torre 3\n",
      "Paso 25. Mueve el disco de la torre 1 a la torre 3\n",
      "Paso 26. Mueve el disco de la torre 1 a la torre 2\n",
      "Paso 27. Mueve el disco de la torre 3 a la torre 2\n",
      "Paso 28. Mueve el disco de la torre 1 a la torre 3\n",
      "Paso 29. Mueve el disco de la torre 2 a la torre 1\n",
      "Paso 30. Mueve el disco de la torre 2 a la torre 3\n",
      "Paso 31. Mueve el disco de la torre 1 a la torre 3\n",
      "Número total de movimientos: 31\n",
      "################################################################################################\n",
      "Según la función el óptimo para resolver este ejercicio es de f(n) = ((2^n) - 1) : 31\n",
      "################################################################################################\n"
     ]
    }
   ],
   "source": [
    "# Torres de Hanoi\n",
    "\n",
    "# Se define una función donde se pasa la cantidad de discos a utilizar, partiendo de una torre inicial llamada 1, torre_auxilizar llamada 2 y torre_destino llamada 3\n",
    "\n",
    "def torres(n_discos, torre_inicial, torre_auxiliar, torre_destino, contador_movimientos=0): \n",
    "    if n_discos == 1:                                       #Caso base cuando se presenta un solo disco y el criterio de parada de nuestras recursión                                                                     \n",
    "        contador_movimientos += 1                           # Se inicia el contador de movimientos. \n",
    "        print(f\"Paso {contador_movimientos}. Mueve el disco de la torre {torre_inicial} a la torre {torre_destino}\") # Se mueve el disco en torre inicial a torre final\n",
    "        return contador_movimientos   #Retornamos el contador para obtener el numero de pasos. \n",
    "    else:\n",
    "        #entramos en el condicional else llamamos nuevamente a la función(torres) pero intercambiando torre destino y \n",
    "        #torre auxiliar en este paso entramos a utilizar la recursividad   \n",
    "        contador_movimientos = torres(n_discos - 1, torre_inicial, torre_destino, torre_auxiliar, contador_movimientos) \n",
    "        contador_movimientos += 1\n",
    "        print(f\"Paso {contador_movimientos}. Mueve el disco de la torre {torre_inicial} a la torre {torre_destino}\") \n",
    "        contador_movimientos = torres(n_discos - 1, torre_auxiliar, torre_inicial, torre_destino, contador_movimientos)\n",
    "        return contador_movimientos\n",
    "\n",
    "print(\"Solucición para una cantidad de 3 discos\")\n",
    "total_movimientos = torres(3, 1, 2, 3) # Iniciamos la prueba para 3 discos \n",
    "print(\"Número total de movimientos:\", total_movimientos)\n",
    "\n",
    "print (\"################################################################################################\")\n",
    "print(\"Según la función el óptimos para resolver este ejercicio es de f(n) = ((2^n) - 1) :\" , 2** 3 -1)\n",
    "print (\"################################################################################################\")\n",
    "\n",
    "print(\"Solucición para una cantidad de 5 discos se realiza los siguientes pasos\")\n",
    "total_movimientos = torres(5, 1, 2, 3)\n",
    "print(\"Número total de movimientos:\", total_movimientos)\n",
    "print (\"################################################################################################\")\n",
    "print(\"Según la función el óptimo para resolver este ejercicio es de f(n) = ((2^n) - 1) :\" , 2** 5 -1)\n",
    "print (\"################################################################################################\")\n",
    "\n"
   ]
  },
  {
   "cell_type": "markdown",
   "metadata": {},
   "source": [
    "## Sucesión de Fibonacci\n",
    "\n",
    "Cálcula el n-ésimo término de la [Sucesión de Fibonacci](https://es.wikipedia.org/wiki/Sucesi%C3%B3n_de_Fibonacci) mediante un algoritmo recursivo y otro iterativo. Representa gráficamente cómo crece el tiempo de cómputo en función del número de términos para ambos algoritmos. "
   ]
  },
  {
   "cell_type": "code",
   "execution_count": 2,
   "metadata": {
    "colab": {
     "base_uri": "https://localhost:8080/"
    },
    "id": "74qZZAekiNYR",
    "outputId": "acc17268-7f87-4de4-ae5a-4fc6ce09d385"
   },
   "outputs": [
    {
     "name": "stdout",
     "output_type": "stream",
     "text": [
      "Sucesión de Fibonacci para n = 33 de forma iterativa: 3524578\n",
      "Sucesión de Fibonacci para n = 33 de forma recursiva: 3524578\n"
     ]
    },
    {
     "data": {
      "image/png": "[encoded data removed]",
      "text/plain": [
       "<Figure size 640x480 with 1 Axes>"
      ]
     },
     "metadata": {},
     "output_type": "display_data"
    }
   ],
   "source": [
    "# Sucesión de Fibonacci\n",
    "#!pip install matplotlib\n",
    "import time\n",
    "import timeit\n",
    "import matplotlib.pyplot as plt\n",
    "####### Función iterativa ########\n",
    "def fibo_iter(n):\n",
    "    if n<= 1:\n",
    "        return n\n",
    "    numero_antes = 0\n",
    "    numero_actual = 1\n",
    "    for i in range(2, n + 1 ):\n",
    "        fibo = numero_antes + numero_actual\n",
    "        numero_antes = numero_actual\n",
    "        numero_actual = fibo\n",
    "    return numero_actual\n",
    "####### Función Recursiva ########\n",
    "def fibo_rec(n):\n",
    "    if n <= 1:\n",
    "        return n\n",
    "    return fibo_rec(n - 1) + fibo_rec(n - 2) \n",
    "\n",
    "print(\"Sucesión de Fibonacci para n = 33 de forma iterativa:\",fibo_iter(33) )\n",
    "#t = timeit.timeit('fibo_iter(33)', globals=globals(), number=1000)\n",
    "#print(\"Tiempo: \",t)\n",
    "print(\"Sucesión de Fibonacci para n = 33 de forma recursiva:\",fibo_rec(33) )\n",
    "#t = timeit.timeit('fibo_rec(33)', globals=globals(), number=1000)\n",
    "#print(\"Tiempo: \",t)\n",
    "\n",
    "\n",
    "\n",
    "#Lista para almacenar el tiempo de n de veces de busqueda \n",
    "tiempo_iter=[] \n",
    "tiempos_rec=[]\n",
    "\n",
    "for i in range(1, 33):\n",
    "    #Calcular el tiempo en la función interativa\n",
    "    t_inicio = time.time()\n",
    "    fibo_iter(i)\n",
    "    t_fin = time.time()\n",
    "    tiempo_iter.append(t_fin - t_inicio) #Agregar los tiempos en la lista \n",
    "\n",
    "    #Calcular el tiempo en la función recursiva\n",
    "    t_inicio = time.time()\n",
    "    fibo_rec(i)\n",
    "    t_fin = time.time()\n",
    "    tiempos_rec.append(t_fin - t_inicio) #Agregar los tiempos en la lista \n",
    "\n",
    "\n",
    "n = list(range(1, 33))\n",
    "plt.plot(n, tiempos_rec, label='Recursivo', marker='o')\n",
    "plt.plot(n, tiempo_iter, label='Iterativo', marker='o')\n",
    "plt.xlabel('Número de términos (n) ')\n",
    "plt.ylabel('Tiempo de ejecución (segundos) ')\n",
    "plt.title('Comparación de Tiempos de Ejecución ')\n",
    "plt.legend()\n",
    "plt.show()\n",
    "\n"
   ]
  },
  {
   "cell_type": "markdown",
   "metadata": {},
   "source": [
    "Observamos en la gráfica el tiempo de cómputo crece en la función recursiva de forma exponencial en comparación a la forma iterativa que crece de forma lineal, debido que en la función recursiva sin optimización siempre tiene que consultar los dos datos anteriores, es decir realizar la suma  y a su vez vuelve a llamar la función donde quizás ya había obtenido el dato anterior pero no lo almacena,  este recorrido se puede mejorar usando la función recursiva con memoización donde se puede ir almacenando la información obtenida y optimizar su ejecución."
   ]
  },
  {
   "cell_type": "markdown",
   "metadata": {
    "id": "RgT5XJsZ429L"
   },
   "source": [
    "## Devolución de cambio por técnica voraz\n",
    "\n",
    "Resuelve el [Problema del Cambio de Moneda](https://es.wikipedia.org/wiki/Problema_de_cambio_de_monedas) utilizando una técnica voraz."
   ]
  },
  {
   "cell_type": "code",
   "execution_count": 4,
   "metadata": {
    "colab": {
     "base_uri": "https://localhost:8080/"
    },
    "id": "uJtftBLU4-ap",
    "outputId": "b52f7a2c-771b-4c2e-81ab-c4c3ea01318d"
   },
   "outputs": [
    {
     "name": "stdout",
     "output_type": "stream",
     "text": [
      "[50, 30, 20, 10, 5, 1]\n"
     ]
    },
    {
     "data": {
      "text/plain": [
       "[1, 1, 0, 0, 1, 0]"
      ]
     },
     "execution_count": 4,
     "metadata": {},
     "output_type": "execute_result"
    }
   ],
   "source": [
    "# Problema del cambio de moneda\n",
    "\n",
    "def cambio_moneda(cantidad, peso_monedas_):\n",
    "    peso_ordenado = sorted(peso_monedas_, reverse= True) # Ordenamos la lista de mayor a menor.\n",
    "    cambio=[0]*len(peso_ordenado)  # Inicializamos la lista de la cantidad de monedas por peso, inicialmente es [0,0,0,0 ... tamaño la cantidad de monedas sin repetir]\n",
    "    acumulado=0\n",
    "    for i in range(len(peso_ordenado)): #Inicamos la etapa para validar peso de cada meneda \n",
    "        #Calcular cuantas veces cabe la moneda de la posicion (i) en el valor total.\n",
    "        peso= (cantidad-acumulado)//peso_ordenado[i] # debemos guardar el resutaldo como entero \n",
    "        cambio[i] = peso # guardar la cantidad de monedas requeridas en este peso para completar la cantidad.  \n",
    "        acumulado += peso*peso_ordenado[i] #Sumamos \n",
    "        if cantidad == acumulado:\n",
    "            return cambio \n",
    "\n",
    "    if acumulado != cantidad:\n",
    "        print(\"No se puede devolver el cambio exacto con los pesos proporcionadas.\")\n",
    "        return None, None\n",
    "    return cambio , cantidad\n",
    "#Pruebas con devolución exacta \n",
    "peso_monedas=[50,10,20,30,5,1]\n",
    "peso_monedas.sort(reverse=True)\n",
    "print(peso_monedas)\n",
    "cantidad = 85\n",
    "cambio_moneda(cantidad, peso_monedas)\n",
    "\n"
   ]
  },
  {
   "cell_type": "markdown",
   "metadata": {},
   "source": [
    "## Pruebas sin peso para cumplir la devolución "
   ]
  },
  {
   "cell_type": "markdown",
   "metadata": {},
   "source": [
    "Se observa que para el cantidad de 85 se tiene un minimo de monedas. "
   ]
  },
  {
   "cell_type": "code",
   "execution_count": 6,
   "metadata": {},
   "outputs": [
    {
     "name": "stdout",
     "output_type": "stream",
     "text": [
      "[50, 30, 20, 10, 5]\n",
      "No se puede devolver el cambio exacto con los pesos proporcionadas.\n"
     ]
    },
    {
     "data": {
      "text/plain": [
       "(None, None)"
      ]
     },
     "execution_count": 6,
     "metadata": {},
     "output_type": "execute_result"
    }
   ],
   "source": [
    "#Pruebas sin peso para cumplir la devolución\n",
    "peso_monedas=[50,10,20,30,5]\n",
    "peso_monedas.sort(reverse=True)\n",
    "print(peso_monedas)\n",
    "cantidad = 86\n",
    "cambio_moneda(cantidad, peso_monedas)"
   ]
  },
  {
   "cell_type": "markdown",
   "metadata": {},
   "source": [
    "Para en este último ejemplo el algoritmo no contempla análisis futuros y solo se concentra en las etapas, sin embargo, se realizó la excepción para demostración teniendo en cuenta que no devolvera un minimo de monemas exactas.  "
   ]
  },
  {
   "cell_type": "markdown",
   "metadata": {
    "id": "g8M9GTvy_Fa3"
   },
   "source": [
    "## N-Reinas por técnica de vuelta atrás\n",
    "Resuelve el [Problema de las N-Reinas](https://es.wikipedia.org/wiki/Problema_de_las_ocho_reinas) en un tablero de dimensión N mediante la técnica de la vuelta atrás (backtraking)."
   ]
  },
  {
   "cell_type": "code",
   "execution_count": 8,
   "metadata": {},
   "outputs": [
    {
     "name": "stdout",
     "output_type": "stream",
     "text": [
      "Tablero de 8x8:\n",
      "[1, 0, 0, 0, 0, 0, 0, 0]\n",
      "[0, 0, 0, 0, 1, 0, 0, 0]\n",
      "[0, 0, 0, 0, 0, 0, 0, 1]\n",
      "[0, 0, 0, 0, 0, 1, 0, 0]\n",
      "[0, 0, 1, 0, 0, 0, 0, 0]\n",
      "[0, 0, 0, 0, 0, 0, 1, 0]\n",
      "[0, 1, 0, 0, 0, 0, 0, 0]\n",
      "[0, 0, 0, 1, 0, 0, 0, 0]\n",
      "\n",
      "\n",
      "Tablero de 16x16:\n",
      "[1, 0, 0, 0, 0, 0, 0, 0, 0, 0, 0, 0, 0, 0, 0, 0]\n",
      "[0, 0, 1, 0, 0, 0, 0, 0, 0, 0, 0, 0, 0, 0, 0, 0]\n",
      "[0, 0, 0, 0, 1, 0, 0, 0, 0, 0, 0, 0, 0, 0, 0, 0]\n",
      "[0, 1, 0, 0, 0, 0, 0, 0, 0, 0, 0, 0, 0, 0, 0, 0]\n",
      "[0, 0, 0, 0, 0, 0, 0, 0, 0, 0, 0, 0, 1, 0, 0, 0]\n",
      "[0, 0, 0, 0, 0, 0, 0, 0, 1, 0, 0, 0, 0, 0, 0, 0]\n",
      "[0, 0, 0, 0, 0, 0, 0, 0, 0, 0, 0, 0, 0, 1, 0, 0]\n",
      "[0, 0, 0, 0, 0, 0, 0, 0, 0, 0, 0, 1, 0, 0, 0, 0]\n",
      "[0, 0, 0, 0, 0, 0, 0, 0, 0, 0, 0, 0, 0, 0, 1, 0]\n",
      "[0, 0, 0, 0, 0, 1, 0, 0, 0, 0, 0, 0, 0, 0, 0, 0]\n",
      "[0, 0, 0, 0, 0, 0, 0, 0, 0, 0, 0, 0, 0, 0, 0, 1]\n",
      "[0, 0, 0, 0, 0, 0, 1, 0, 0, 0, 0, 0, 0, 0, 0, 0]\n",
      "[0, 0, 0, 1, 0, 0, 0, 0, 0, 0, 0, 0, 0, 0, 0, 0]\n",
      "[0, 0, 0, 0, 0, 0, 0, 0, 0, 0, 1, 0, 0, 0, 0, 0]\n",
      "[0, 0, 0, 0, 0, 0, 0, 1, 0, 0, 0, 0, 0, 0, 0, 0]\n",
      "[0, 0, 0, 0, 0, 0, 0, 0, 0, 1, 0, 0, 0, 0, 0, 0]\n",
      "\n",
      "\n"
     ]
    }
   ],
   "source": [
    "def resolver_n_reinas(n):\n",
    "    # Definimos el tamaño del tablero de acuerdo a la n dimensiones  \n",
    "    tablero = [[0 for i in range(n)] for i in range(n)]\n",
    "\n",
    "    # Llamamos a validar columnas con espacios ocupados\n",
    "    def verificar_col(tablero, fila, col):\n",
    "        for i in range(fila, -1 , -1): # Iniciamos el recorrido \n",
    "            if tablero[i][col] == 1: # validamos las columnas \n",
    "                return False\n",
    "        return True\n",
    "\n",
    "    # Llamamos a validar la diagonal  \n",
    "    def verificar_diagonal(tablero, fila, col):\n",
    "        # verificar diagonal superior izq.\n",
    "        for i,j in zip(range(fila,-1,-1), range(col,-1,-1)): # Realizamos un zip para iterar las secuencias simultáneamente   \n",
    "            if tablero[i][j] == 1:\n",
    "                return False \n",
    "        # verificar diagonal superior derecha.\n",
    "        for i,j in zip(range(fila,-1,-1), range(col,n)): # Realizamos un zip para iterar las secuencias simultáneamente\n",
    "            if tablero[i][j] == 1:                        \n",
    "                return False \n",
    "        return True\n",
    "\n",
    "    def backt(tablero, fila):\n",
    "        if fila == n:\n",
    "            return True\n",
    "        for i in range(n):\n",
    "            if verificar_col(tablero, fila, i) and verificar_diagonal(tablero, fila, i):\n",
    "                tablero[fila][i] = 1\n",
    "                if backt(tablero, fila + 1):\n",
    "                    return True\n",
    "                tablero[fila][i] = 0\n",
    "        return False\n",
    "\n",
    "    backt(tablero, 0) # Iniciamos la función desde la primera fila.\n",
    "\n",
    "    # Imprimir el tablero\n",
    "    for fila in tablero:\n",
    "        print(fila)\n",
    "    print(\"\\n\")\n",
    "\n",
    "# Ejecutar con un tablero de 8x8\n",
    "print(\"Tablero de 8x8:\")\n",
    "resolver_n_reinas(8)\n",
    "\n",
    "# Ejecutar con un tablero de 16x16\n",
    "print(\"Tablero de 16x16:\")\n",
    "resolver_n_reinas(16)"
   ]
  }
 ],
 "metadata": {
  "colab": {
   "provenance": [],
   "toc_visible": true
  },
  "kernelspec": {
   "display_name": "Python 3 (ipykernel)",
   "language": "python",
   "name": "python3"
  },
  "language_info": {
   "codemirror_mode": {
    "name": "ipython",
    "version": 3
   },
   "file_extension": ".py",
   "mimetype": "text/x-python",
   "name": "python",
   "nbconvert_exporter": "python",
   "pygments_lexer": "ipython3",
   "version": "3.11.7"
  }
 },
 "nbformat": 4,
 "nbformat_minor": 4
}
